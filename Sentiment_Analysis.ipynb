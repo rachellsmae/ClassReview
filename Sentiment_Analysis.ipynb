{
 "cells": [
  {
   "cell_type": "code",
   "execution_count": 175,
   "metadata": {},
   "outputs": [],
   "source": [
    "import pandas as pd\n",
    "import numpy as np\n",
    "import matplotlib.pyplot as plt\n",
    "\n",
    "import re\n",
    "\n",
    "from nltk.tokenize import word_tokenize, sent_tokenize\n",
    "from nltk.sentiment.vader import SentimentIntensityAnalyzer \n",
    "\n",
    "import statsmodels.api as sm\n",
    "from sklearn import tree\n",
    "from sklearn.externals.six import StringIO  \n",
    "from IPython.display import Image  \n",
    "from sklearn.tree import export_graphviz\n",
    "import graphviz\n",
    "import pydotplus"
   ]
  },
  {
   "cell_type": "code",
   "execution_count": 38,
   "metadata": {},
   "outputs": [],
   "source": [
    "# load data\n",
    "data = pd.read_csv('joined_for_dtm.csv').drop('Unnamed: 0', axis=1)[['term', 'course', 'pdf_content']]"
   ]
  },
  {
   "cell_type": "code",
   "execution_count": 131,
   "metadata": {},
   "outputs": [
    {
     "data": {
      "text/plain": [
       "2601"
      ]
     },
     "execution_count": 131,
     "metadata": {},
     "output_type": "execute_result"
    }
   ],
   "source": [
    "len(data)"
   ]
  },
  {
   "cell_type": "code",
   "execution_count": 39,
   "metadata": {},
   "outputs": [
    {
     "data": {
      "text/html": [
       "<div>\n",
       "<style scoped>\n",
       "    .dataframe tbody tr th:only-of-type {\n",
       "        vertical-align: middle;\n",
       "    }\n",
       "\n",
       "    .dataframe tbody tr th {\n",
       "        vertical-align: top;\n",
       "    }\n",
       "\n",
       "    .dataframe thead th {\n",
       "        text-align: right;\n",
       "    }\n",
       "</style>\n",
       "<table border=\"1\" class=\"dataframe\">\n",
       "  <thead>\n",
       "    <tr style=\"text-align: right;\">\n",
       "      <th></th>\n",
       "      <th>term</th>\n",
       "      <th>course</th>\n",
       "      <th>pdf_content</th>\n",
       "    </tr>\n",
       "  </thead>\n",
       "  <tbody>\n",
       "    <tr>\n",
       "      <th>0</th>\n",
       "      <td>2010a</td>\n",
       "      <td>ACCT-101-401</td>\n",
       "      <td>ACCOUNTING 101 SPRING 2010 - REIS \\r\\n\\r\\nUniv...</td>\n",
       "    </tr>\n",
       "    <tr>\n",
       "      <th>1</th>\n",
       "      <td>2010a</td>\n",
       "      <td>ACCT-101-402</td>\n",
       "      <td>ACCOUNTING 101 SPRING 2010 - REIS \\r\\n\\r\\nUniv...</td>\n",
       "    </tr>\n",
       "    <tr>\n",
       "      <th>2</th>\n",
       "      <td>2010a</td>\n",
       "      <td>ACCT-101-403</td>\n",
       "      <td>ACCOUNTING 101 SPRING 2010 - REIS \\r\\n\\r\\nUniv...</td>\n",
       "    </tr>\n",
       "    <tr>\n",
       "      <th>3</th>\n",
       "      <td>2010a</td>\n",
       "      <td>ACCT-101-410</td>\n",
       "      <td>ACCOUNTING 101 SPRING 2010 - REIS \\r\\n\\r\\nUniv...</td>\n",
       "    </tr>\n",
       "    <tr>\n",
       "      <th>4</th>\n",
       "      <td>2010a</td>\n",
       "      <td>ACCT-101-411</td>\n",
       "      <td>ACCOUNTING 101 SPRING 2010 - REIS \\r\\n\\r\\nUniv...</td>\n",
       "    </tr>\n",
       "  </tbody>\n",
       "</table>\n",
       "</div>"
      ],
      "text/plain": [
       "    term        course                                        pdf_content\n",
       "0  2010a  ACCT-101-401  ACCOUNTING 101 SPRING 2010 - REIS \\r\\n\\r\\nUniv...\n",
       "1  2010a  ACCT-101-402  ACCOUNTING 101 SPRING 2010 - REIS \\r\\n\\r\\nUniv...\n",
       "2  2010a  ACCT-101-403  ACCOUNTING 101 SPRING 2010 - REIS \\r\\n\\r\\nUniv...\n",
       "3  2010a  ACCT-101-410  ACCOUNTING 101 SPRING 2010 - REIS \\r\\n\\r\\nUniv...\n",
       "4  2010a  ACCT-101-411  ACCOUNTING 101 SPRING 2010 - REIS \\r\\n\\r\\nUniv..."
      ]
     },
     "execution_count": 39,
     "metadata": {},
     "output_type": "execute_result"
    }
   ],
   "source": [
    "data.head()"
   ]
  },
  {
   "cell_type": "code",
   "execution_count": 144,
   "metadata": {},
   "outputs": [],
   "source": [
    "# function to clean syllabus text\n",
    "def clean_syllabus(syllabus):\n",
    "    special_char = '/-*.x–:'\n",
    "    \n",
    "    # get rid of \\n, \\r and make lowercase\n",
    "    sentences = sent_tokenize(syllabus.replace(\"\\n\", '').replace(\"\\r\", '').lower())\n",
    "    \n",
    "    # get rid of special characters and numbers\n",
    "    cleaned = ''.join([''.join(i for i in sentence.strip() if not i.isdigit() and i not in special_char) \n",
    "                       for sentence in sentences])\n",
    "    \n",
    "    # return cleaned text as 1 string\n",
    "    return ' '.join(word_tokenize(cleaned))"
   ]
  },
  {
   "cell_type": "code",
   "execution_count": 145,
   "metadata": {},
   "outputs": [],
   "source": [
    "# get sentiment of syllabis\n",
    "sentiment = np.array([])\n",
    "sid = SentimentIntensityAnalyzer()\n",
    "length = len(data)\n",
    "\n",
    "for syllabus in data['pdf_content']:\n",
    "    ss = sid.polarity_scores(clean_syllabus(syllabus))\n",
    "    sentiment = np.append(sentiment, ss.get('pos') - ss.get('neg'))"
   ]
  },
  {
   "cell_type": "code",
   "execution_count": 153,
   "metadata": {},
   "outputs": [
    {
     "data": {
      "image/png": "[encoded data removed]",
      "text/plain": [
       "<Figure size 432x288 with 1 Axes>"
      ]
     },
     "metadata": {
      "needs_background": "light"
     },
     "output_type": "display_data"
    }
   ],
   "source": [
    "plt.hist(sentiment)\n",
    "plt.title('Plot of Sentiment')\n",
    "plt.show()"
   ]
  },
  {
   "cell_type": "code",
   "execution_count": 152,
   "metadata": {},
   "outputs": [
    {
     "data": {
      "text/plain": [
       "term                                                       2016c\n",
       "course                                              MKTG-234-003\n",
       "pdf_content    \\t\\r\\n\\r\\nThe\\tWharton\\tSchool\\t\\r\\n\\r\\nUniver...\n",
       "Name: 2009, dtype: object"
      ]
     },
     "execution_count": 152,
     "metadata": {},
     "output_type": "execute_result"
    }
   ],
   "source": [
    "# nicest-sounding syllabus\n",
    "data.iloc[2009]"
   ]
  },
  {
   "cell_type": "code",
   "execution_count": 189,
   "metadata": {},
   "outputs": [],
   "source": [
    "# join to create final df\n",
    "sentiment_df = pd.concat([data, pd.DataFrame(sentiment).rename(columns={0:'sentiment'})], axis=1).drop('pdf_content', axis=1)\n",
    "sentiment_df['department'] = vect_strings(sentiment_df['course'], 4)"
   ]
  },
  {
   "cell_type": "code",
   "execution_count": 190,
   "metadata": {},
   "outputs": [
    {
     "data": {
      "text/html": [
       "<div>\n",
       "<style scoped>\n",
       "    .dataframe tbody tr th:only-of-type {\n",
       "        vertical-align: middle;\n",
       "    }\n",
       "\n",
       "    .dataframe tbody tr th {\n",
       "        vertical-align: top;\n",
       "    }\n",
       "\n",
       "    .dataframe thead th {\n",
       "        text-align: right;\n",
       "    }\n",
       "</style>\n",
       "<table border=\"1\" class=\"dataframe\">\n",
       "  <thead>\n",
       "    <tr style=\"text-align: right;\">\n",
       "      <th></th>\n",
       "      <th>term</th>\n",
       "      <th>course</th>\n",
       "      <th>sentiment</th>\n",
       "      <th>department</th>\n",
       "    </tr>\n",
       "  </thead>\n",
       "  <tbody>\n",
       "    <tr>\n",
       "      <th>0</th>\n",
       "      <td>2010a</td>\n",
       "      <td>ACCT-101-401</td>\n",
       "      <td>-0.007</td>\n",
       "      <td>ACCT</td>\n",
       "    </tr>\n",
       "    <tr>\n",
       "      <th>1</th>\n",
       "      <td>2010a</td>\n",
       "      <td>ACCT-101-402</td>\n",
       "      <td>-0.007</td>\n",
       "      <td>ACCT</td>\n",
       "    </tr>\n",
       "    <tr>\n",
       "      <th>2</th>\n",
       "      <td>2010a</td>\n",
       "      <td>ACCT-101-403</td>\n",
       "      <td>-0.007</td>\n",
       "      <td>ACCT</td>\n",
       "    </tr>\n",
       "    <tr>\n",
       "      <th>3</th>\n",
       "      <td>2010a</td>\n",
       "      <td>ACCT-101-410</td>\n",
       "      <td>-0.007</td>\n",
       "      <td>ACCT</td>\n",
       "    </tr>\n",
       "    <tr>\n",
       "      <th>4</th>\n",
       "      <td>2010a</td>\n",
       "      <td>ACCT-101-411</td>\n",
       "      <td>-0.007</td>\n",
       "      <td>ACCT</td>\n",
       "    </tr>\n",
       "  </tbody>\n",
       "</table>\n",
       "</div>"
      ],
      "text/plain": [
       "    term        course  sentiment department\n",
       "0  2010a  ACCT-101-401     -0.007       ACCT\n",
       "1  2010a  ACCT-101-402     -0.007       ACCT\n",
       "2  2010a  ACCT-101-403     -0.007       ACCT\n",
       "3  2010a  ACCT-101-410     -0.007       ACCT\n",
       "4  2010a  ACCT-101-411     -0.007       ACCT"
      ]
     },
     "execution_count": 190,
     "metadata": {},
     "output_type": "execute_result"
    }
   ],
   "source": [
    "sentiment_df.head()"
   ]
  },
  {
   "cell_type": "code",
   "execution_count": 198,
   "metadata": {},
   "outputs": [
    {
     "data": {
      "text/html": [
       "<div>\n",
       "<style scoped>\n",
       "    .dataframe tbody tr th:only-of-type {\n",
       "        vertical-align: middle;\n",
       "    }\n",
       "\n",
       "    .dataframe tbody tr th {\n",
       "        vertical-align: top;\n",
       "    }\n",
       "\n",
       "    .dataframe thead th {\n",
       "        text-align: right;\n",
       "    }\n",
       "</style>\n",
       "<table border=\"1\" class=\"dataframe\">\n",
       "  <thead>\n",
       "    <tr style=\"text-align: right;\">\n",
       "      <th></th>\n",
       "      <th>sentiment</th>\n",
       "    </tr>\n",
       "    <tr>\n",
       "      <th>department</th>\n",
       "      <th></th>\n",
       "    </tr>\n",
       "  </thead>\n",
       "  <tbody>\n",
       "    <tr>\n",
       "      <th>ACCT</th>\n",
       "      <td>-0.015725</td>\n",
       "    </tr>\n",
       "    <tr>\n",
       "      <th>BEPP</th>\n",
       "      <td>-0.015709</td>\n",
       "    </tr>\n",
       "    <tr>\n",
       "      <th>STAT</th>\n",
       "      <td>0.013453</td>\n",
       "    </tr>\n",
       "    <tr>\n",
       "      <th>REAL</th>\n",
       "      <td>0.017226</td>\n",
       "    </tr>\n",
       "    <tr>\n",
       "      <th>FNCE</th>\n",
       "      <td>0.026535</td>\n",
       "    </tr>\n",
       "    <tr>\n",
       "      <th>OIDD</th>\n",
       "      <td>0.036195</td>\n",
       "    </tr>\n",
       "    <tr>\n",
       "      <th>MKTG</th>\n",
       "      <td>0.042947</td>\n",
       "    </tr>\n",
       "    <tr>\n",
       "      <th>LGST</th>\n",
       "      <td>0.044495</td>\n",
       "    </tr>\n",
       "    <tr>\n",
       "      <th>MGMT</th>\n",
       "      <td>0.062347</td>\n",
       "    </tr>\n",
       "    <tr>\n",
       "      <th>HCMG</th>\n",
       "      <td>0.074613</td>\n",
       "    </tr>\n",
       "  </tbody>\n",
       "</table>\n",
       "</div>"
      ],
      "text/plain": [
       "            sentiment\n",
       "department           \n",
       "ACCT        -0.015725\n",
       "BEPP        -0.015709\n",
       "STAT         0.013453\n",
       "REAL         0.017226\n",
       "FNCE         0.026535\n",
       "OIDD         0.036195\n",
       "MKTG         0.042947\n",
       "LGST         0.044495\n",
       "MGMT         0.062347\n",
       "HCMG         0.074613"
      ]
     },
     "execution_count": 198,
     "metadata": {},
     "output_type": "execute_result"
    }
   ],
   "source": [
    "# which departments had negative/positive sentiment on avg\n",
    "sentiment_df.groupby('department').mean().sort_values(by='sentiment')"
   ]
  },
  {
   "cell_type": "code",
   "execution_count": 201,
   "metadata": {},
   "outputs": [],
   "source": [
    "sentiment_df['sentiment'] = [1 if i>=0 else 0 for i in sentiment_df['sentiment']]"
   ]
  },
  {
   "cell_type": "code",
   "execution_count": 203,
   "metadata": {},
   "outputs": [],
   "source": [
    "# sentiment_df.to_csv('sentiment.csv', index=False)"
   ]
  }
 ],
 "metadata": {
  "kernelspec": {
   "display_name": "Python 3",
   "language": "python",
   "name": "python3"
  },
  "language_info": {
   "codemirror_mode": {
    "name": "ipython",
    "version": 3
   },
   "file_extension": ".py",
   "mimetype": "text/x-python",
   "name": "python",
   "nbconvert_exporter": "python",
   "pygments_lexer": "ipython3",
   "version": "3.6.6"
  }
 },
 "nbformat": 4,
 "nbformat_minor": 2
}
